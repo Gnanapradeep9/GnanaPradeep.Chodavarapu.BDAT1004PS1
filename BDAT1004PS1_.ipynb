{
  "cells": [
    {
      "cell_type": "markdown",
      "id": "88a17629-61f2-43f0-bb35-0a55edab0083",
      "metadata": {
        "id": "88a17629-61f2-43f0-bb35-0a55edab0083"
      },
      "source": [
        "# Question 1\n",
        "What data type is each of the following (evaluate where necessary)?\n",
        "5\n",
        "5.0\n",
        "5 > 1\n",
        "'5'\n",
        "5 * 2\n",
        "'5' * 2\n",
        "'5' + '2'\n",
        "5 / 2\n",
        "5 % 2\n",
        "{5, 2, 1}\n",
        "5 == 3\n",
        "Pi (the number)"
      ]
    },
    {
      "cell_type": "markdown",
      "id": "b4ba2193-6a8c-4ab4-adb3-b7aba7da38ce",
      "metadata": {
        "id": "b4ba2193-6a8c-4ab4-adb3-b7aba7da38ce"
      },
      "source": [
        "\n",
        "  5          -------------    Integer\n",
        "  5.0     ----------------    Floating point number\n",
        "  5 > 1 (true)  ----------    Boolean\n",
        "  '5'     ----------------    String\n",
        "  5 * 2 (5*2 = 10) -------    Integer\n",
        "  '5' * 2 ('55') ---------    String\n",
        "  '5' + '2' ('52') -------    String\n",
        "  5 / 2  (5 / 2 = 2.5)  --    Floating point number\n",
        "  5 % 2  (5 % 2 = 1) -----    Integer\n",
        "  {5, 2, 1}   ------------    Set\n",
        "  5 == 3  (False)---------    Boolean\n",
        "  Pi (3.142)     ---------    Floating point number\n",
        "  \n",
        "\n"
      ]
    },
    {
      "cell_type": "code",
      "execution_count": null,
      "id": "f9e64a6b-2cc2-424a-8786-75d630427fbe",
      "metadata": {
        "id": "f9e64a6b-2cc2-424a-8786-75d630427fbe",
        "outputId": "0185f76d-a9dd-4082-8d2f-0c9845610f45"
      },
      "outputs": [
        {
          "name": "stdout",
          "output_type": "stream",
          "text": [
            "<class 'int'>\n",
            "<class 'float'>\n",
            "<class 'bool'>\n",
            "<class 'str'>\n",
            "<class 'int'>\n",
            "<class 'str'>\n",
            "<class 'str'>\n",
            "<class 'float'>\n",
            "<class 'int'>\n",
            "<class 'set'>\n",
            "<class 'bool'>\n",
            "<class 'float'>\n"
          ]
        }
      ],
      "source": [
        "print(type(5))\n",
        "print(type(5.0))\n",
        "print(type(5 > 1))\n",
        "print(type('5'))\n",
        "print(type(5 * 2))\n",
        "print(type('5' * 2))\n",
        "print(type('5' + '2'))\n",
        "print(type(5 / 2))\n",
        "print(type(5 % 2))\n",
        "print(type({5, 2, 1}))\n",
        "print(type(5 == 3))\n",
        "print(type(3.142))\n"
      ]
    },
    {
      "cell_type": "markdown",
      "id": "ce02801d-b8b2-4ad0-9292-225663ac78ab",
      "metadata": {
        "id": "ce02801d-b8b2-4ad0-9292-225663ac78ab"
      },
      "source": [
        "# Question 2\n",
        "Write (and evaluate) Python expressions that answer these questions:\n",
        "a. How many letters are there in 'Supercalifragilisticexpialidocious'?\n",
        "b. Does 'Supercalifragilisticexpialidocious' contain 'ice' as a substrin\n",
        "c. Which of the following words is the longest:\n",
        "Supercalifragilisticexpialidocious, Honorificabilitudinitatibus, or\n",
        "Bababadalgharaghtakamminarronnkonn?\n",
        "d. Which composer comes first in the dictionary: 'Berlioz', 'Borodin', 'Brian',\n",
        "'Bartok', 'Bellini', 'Buxtehude', 'Bernstein'. Which one comes last?g?"
      ]
    },
    {
      "cell_type": "code",
      "execution_count": null,
      "id": "1562e225-328c-4fd6-8e6e-1361a95d0a06",
      "metadata": {
        "id": "1562e225-328c-4fd6-8e6e-1361a95d0a06",
        "outputId": "0018038b-62ad-483c-8c90-326dca889a9b"
      },
      "outputs": [
        {
          "name": "stdout",
          "output_type": "stream",
          "text": [
            "34\n"
          ]
        }
      ],
      "source": [
        "x = 'Supercalifragilisticexpialidocious'     #code for part a in question 2\n",
        "print(len(x))\n"
      ]
    },
    {
      "cell_type": "code",
      "execution_count": null,
      "id": "62681731-d832-4052-bdb3-565d558d61d0",
      "metadata": {
        "id": "62681731-d832-4052-bdb3-565d558d61d0",
        "outputId": "66268e17-f656-4794-96b0-49058122f26f"
      },
      "outputs": [
        {
          "name": "stdout",
          "output_type": "stream",
          "text": [
            "True\n"
          ]
        }
      ],
      "source": [
        "print ( 'ice'in 'Supercalifragilisticexpialidocious')  #code for part b in question 2"
      ]
    },
    {
      "cell_type": "code",
      "execution_count": null,
      "id": "15002a0d-0629-4b19-ae22-cf8d327adbf2",
      "metadata": {
        "id": "15002a0d-0629-4b19-ae22-cf8d327adbf2",
        "outputId": "f45f2031-bbec-47e9-fe69-bff262cf3ec3"
      },
      "outputs": [
        {
          "name": "stdout",
          "output_type": "stream",
          "text": [
            "Supercalifragilisticexpialidocious\n"
          ]
        }
      ],
      "source": [
        "lst = ['Supercalifragilisticexpialidocious', 'Honorificabilitudinitatibus', 'Bababadalgharaghtakamminarronnkonn'  ] # Create list with 3 strings given\n",
        "print(max(lst))"
      ]
    },
    {
      "cell_type": "code",
      "execution_count": null,
      "id": "30fb3966-77fe-415d-8152-881e361eacef",
      "metadata": {
        "id": "30fb3966-77fe-415d-8152-881e361eacef",
        "outputId": "d9406104-eada-4b06-cf05-dcdffdd5c234"
      },
      "outputs": [
        {
          "name": "stdout",
          "output_type": "stream",
          "text": [
            "Bartok\n",
            "Buxtehude\n"
          ]
        }
      ],
      "source": [
        "composers = [ 'Berlioz', 'Borodin', 'Brian','Bartok', 'Bellini', 'Buxtehude', 'Bernstein']  #code for part d in question 2\n",
        "composers.sort()\n",
        "first_composer = composers[0]\n",
        "last_composer = composers[-1]\n",
        "print(first_composer)\n",
        "print(last_composer)"
      ]
    },
    {
      "cell_type": "markdown",
      "id": "6c07cef6-00e8-4d4d-9824-e17606d0d20e",
      "metadata": {
        "id": "6c07cef6-00e8-4d4d-9824-e17606d0d20e"
      },
      "source": [
        "# Question 3\n",
        "Implement function triangleArea(a,b,c) that takes as input the lengths of the 3\n",
        "sides of a triangle and returns the area of the triangle. By Heron's formula, the area\n",
        "of a triangle with side lengths a, b, and c is\n",
        "s(s - a)(s -b)(s -c)\n",
        ", where\n",
        "s = (a+b+\n",
        "c\n",
        ">>> triangleArea(2,2,2)\n",
        "1.7320508075688772\n"
      ]
    },
    {
      "cell_type": "code",
      "execution_count": null,
      "id": "887491c0-93c5-4732-9067-adfa2c5daed9",
      "metadata": {
        "id": "887491c0-93c5-4732-9067-adfa2c5daed9",
        "outputId": "cdc042ea-194c-455d-9599-f3057ed50c2a"
      },
      "outputs": [
        {
          "name": "stdout",
          "output_type": "stream",
          "text": [
            "1.7320508075688772\n"
          ]
        }
      ],
      "source": [
        "import math\n",
        "def triangleArea (a,b,c):   # define a function\n",
        "    s=(a+b+c)/2\n",
        "    area=math.sqrt(s*(s-a)*(s-b)*(s-c))\n",
        "    return area\n",
        "\n",
        "print(triangleArea(2,2,2))\n",
        "\n",
        "\n",
        "\n"
      ]
    },
    {
      "cell_type": "markdown",
      "id": "6a02416c-f776-411c-8361-7d207a2797e7",
      "metadata": {
        "id": "6a02416c-f776-411c-8361-7d207a2797e7"
      },
      "source": [
        "# Question 4\n",
        "Write a program in Python to separate odd and even integers in separate arrays. Go\n",
        "to the editor\n",
        "Test Data :\n",
        "Input the number of elements to be stored in the aray :5\n",
        "Input 5 elements in the array :\n",
        "elemen - 0 : 25\n",
        "elemet - 1 : 47\n",
        "elemnt - 2 : 42\n",
        "eleent - 3 : 56\n",
        "elment - 4 : 32\n",
        "Expected Output:\n",
        "The Even elements are:\n",
        "42 56 32\n",
        "The Odd elements are :\n",
        "25 47"
      ]
    },
    {
      "cell_type": "code",
      "execution_count": null,
      "id": "202e268d-f693-4395-9e5b-9b824023e5b2",
      "metadata": {
        "id": "202e268d-f693-4395-9e5b-9b824023e5b2",
        "outputId": "7dd0e2f1-774a-4e7c-ab0e-5ace43d3fed8"
      },
      "outputs": [
        {
          "name": "stdin",
          "output_type": "stream",
          "text": [
            "Input the number of elements to be stored in the array:  5\n"
          ]
        },
        {
          "name": "stdout",
          "output_type": "stream",
          "text": [
            "Input 5 elements in the array:\n"
          ]
        },
        {
          "name": "stdin",
          "output_type": "stream",
          "text": [
            "element - 0:  25\n",
            "element - 1:  47\n",
            "element - 2:  42\n",
            "element - 3:  56\n",
            "element - 4:  32\n"
          ]
        },
        {
          "name": "stdout",
          "output_type": "stream",
          "text": [
            "The Even elements are:\n",
            "42 56 32 \n",
            "The Odd elements are:\n",
            "25 47 \n"
          ]
        }
      ],
      "source": [
        "def separate_odd_even():\n",
        "\n",
        "    n = int(input(\"Input the number of elements to be stored in the array: \"))\n",
        "\n",
        "\n",
        "    elements = []\n",
        "\n",
        "\n",
        "    print(\"Input {} elements in the array:\".format(n))         # Take input for each element\n",
        "    for i in range(n):\n",
        "        element = int(input(\"element - {}: \".format(i)))\n",
        "        elements.append(element)\n",
        "\n",
        "\n",
        "    even_elements = []     # Initialize arrays for odd and even numbers\n",
        "    odd_elements = []\n",
        "\n",
        "\n",
        "    for element in elements:\n",
        "        if element % 2 == 0:\n",
        "            even_elements.append(element)\n",
        "        else:\n",
        "            odd_elements.append(element)\n",
        "\n",
        "    print(\"The Even elements are:\")\n",
        "    for even in even_elements:\n",
        "        print(even, end=' ')\n",
        "    print(\"\\nThe Odd elements are:\")\n",
        "    for odd in odd_elements:\n",
        "        print(odd, end=' ')\n",
        "    print()\n",
        "\n",
        "\n",
        "separate_odd_even()\n"
      ]
    },
    {
      "cell_type": "markdown",
      "id": "fd13a54b-5911-434e-91df-32a523337184",
      "metadata": {
        "id": "fd13a54b-5911-434e-91df-32a523337184"
      },
      "source": [
        "# Question 5\n",
        "a. Write a function inside(x,y,x1,y1,x2,y2) that returns True or False\n",
        "depending on whether the point (x,y) lies in the rectangle with lower left\n",
        "corner (x1,y1) and upper right corner (x2,y2)>> inside(1,1,0,0,2,3)\n",
        "T\n",
        ">>> inside(-1,-1,0,0,2,3)\n",
        "False\n",
        "b. Use function inside() from part a. to write an expression that tests whether\n",
        "the point (1,1) lies in both of the following rectangles: one with lower left\n",
        "corner (0.3, 0.5) and upper right corner (1.1, 0.7) and the other with lower\n",
        "left corner (0.5, 0.2) and upper right corner (1.1, 2)."
      ]
    },
    {
      "cell_type": "code",
      "execution_count": null,
      "id": "1feea4a8-01f0-4297-96b8-fe826b1b12b6",
      "metadata": {
        "id": "1feea4a8-01f0-4297-96b8-fe826b1b12b6",
        "outputId": "26f570f4-6fe9-4380-942f-3c093d173039"
      },
      "outputs": [
        {
          "name": "stdout",
          "output_type": "stream",
          "text": [
            "True\n",
            "False\n",
            "False\n"
          ]
        }
      ],
      "source": [
        "def inside(x,y,x1,y1,x2,y2):\n",
        "    return x1 <= x <= x2 and y1 <= y<= y2\n",
        "print(inside(1,1,0,0,2,3))\n",
        "print(inside(-1,-1,0,0,2,3))\n",
        "#the point\n",
        "px=1\n",
        "py=1\n",
        "#rectangle 1 coordinates of corners\n",
        "r1x1=0.3\n",
        "r1y1=0.5\n",
        "r1x2=1.1\n",
        "r1y2=0.7\n",
        "#rectangle 2 coordinates of corners\n",
        "r2x1=0.5\n",
        "r2y1=0.2\n",
        "r2x2=1.1\n",
        "r2y2=2\n",
        "insideboth_rectangles = inside(px,py,r1x1,r1y1,r1x2,r1y2) and inside(px,py,r2x1,r2y1,r2x2,r2y2)\n",
        "print(insideboth_rectangles)\n",
        "\n",
        ""
      ]
    },
    {
      "cell_type": "markdown",
      "id": "9b14a2dd-bff4-4d69-a931-daf14a2c7c89",
      "metadata": {
        "id": "9b14a2dd-bff4-4d69-a931-daf14a2c7c89"
      },
      "source": [
        "# Question 6\n",
        "6. You can turn a word into pig-Latin using the following two rules (simplified):\n",
        "• If the word starts with a consonant, move that letter to the end and append\n",
        "'ay'. For example, 'happy' becomes 'appyhay' and 'pencil' becomes 'encilpay'.\n",
        "• If the word starts with a vowel, simply append 'way' to the end of the word.\n",
        "For example, 'enter' becomes 'enterway' and 'other' becomes 'otherway' . For\n",
        "our purposes, there are 5 vowels: a, e, i, o, u (so we count y as a consonant).\n",
        "Write a function pig() that takes a word (i.e., a string) as input and returns its pigLatin form. Your function should still work if the input word contains upper case\n",
        "characters. Your output should always be lower case h\n",
        "expected output:oer.\n",
        ">>> pig('happy')\n",
        "'yhay'\n",
        ">>> pig('Enter')\n",
        "'enterway'"
      ]
    },
    {
      "cell_type": "code",
      "execution_count": null,
      "id": "e1d977bd-299f-450d-82ba-fbd9a36ab9ef",
      "metadata": {
        "id": "e1d977bd-299f-450d-82ba-fbd9a36ab9ef",
        "outputId": "48282d4e-ff39-4c4f-dd55-2630f3746a52"
      },
      "outputs": [
        {
          "name": "stdout",
          "output_type": "stream",
          "text": [
            "appyhay\n",
            "enterway\n"
          ]
        }
      ],
      "source": [
        "def pig(word):\n",
        "    word = word.lower()\n",
        "    vowels = 'aeiou'\n",
        "    if word[0] in vowels:\n",
        "        return word + 'way'\n",
        "    else:\n",
        "        return word[1:] + word[0] + 'ay'\n",
        "\n",
        "print(pig('happy'))\n",
        "print(pig('Enter'))\n",
        ""
      ]
    },
    {
      "cell_type": "markdown",
      "id": "70d1ecb8-d4c3-46c5-a0fd-1410100605b6",
      "metadata": {
        "id": "70d1ecb8-d4c3-46c5-a0fd-1410100605b6"
      },
      "source": [
        "# Question 7\n",
        "File bloodtype1.txt records blood-types of patients (A, B, AB, O or OO) at a clinic.\n",
        "Write a function bldcount() that reads the file with name name and reports (i.e.,\n",
        "prints) how many patients there are in each bloodtype>> bldcount('bloodtype.txt')\n",
        "There are 10 patients of blood type A.\n",
        "There is one patient of blood type B.\n",
        "There are 10 patients of blood type AB.\n",
        "There are 12 patients of blood type O.\n",
        "There are no patients of blood type OO.\n"
      ]
    },
    {
      "cell_type": "code",
      "execution_count": 5,
      "id": "d2b41396-5c5c-4b08-8a55-6a71ee485c31",
      "metadata": {
        "colab": {
          "base_uri": "https://localhost:8080/"
        },
        "id": "d2b41396-5c5c-4b08-8a55-6a71ee485c31",
        "outputId": "b94e29f0-40d9-4d8f-d71a-52d8c10d77ce"
      },
      "outputs": [
        {
          "output_type": "stream",
          "name": "stdout",
          "text": [
            "AB AB B O A A AB O AB A O O A A A O O O AB O A A A A A AB AB A AB O AB O A O O O AB O AB AB AB A A O \n",
            "\n",
            "There are  10  patients of blood type A\n",
            "There are  1  patients of blood type B\n",
            "There are  10  patients of blood type AB\n",
            "There are  12  patients of blood type O\n",
            "There are  0  patients of blood type OO\n"
          ]
        }
      ],
      "source": [
        "file = open('bloodtype1.txt')\n",
        "bloodtypes= file.read()\n",
        "\n",
        "a = bloodtypes.count(\" A \")\n",
        "print (bloodtypes)\n",
        "print (\"There are \", a, \" patients of blood type A\")\n",
        "\n",
        "\n",
        "b = bloodtypes.count(\" B \")\n",
        "print (\"There are \", b, \" patients of blood type B\")\n",
        "\n",
        "\n",
        "ab = bloodtypes.count(\" AB \")\n",
        "print (\"There are \", ab, \" patients of blood type AB\")\n",
        "\n",
        "\n",
        "o = bloodtypes.count(\" O \")\n",
        "print (\"There are \", o, \" patients of blood type O\")\n",
        "\n",
        "\n",
        "oo = bloodtypes.count(\" OO \")\n",
        "print (\"There are \", oo , \" patients of blood type OO\")\n",
        "\n"
      ]
    },
    {
      "cell_type": "markdown",
      "id": "7be22990-9089-4360-9af4-7310c21f9cba",
      "metadata": {
        "id": "7be22990-9089-4360-9af4-7310c21f9cba"
      },
      "source": [
        "# Question 8\n",
        "Write a function curconv() that takes as input:\n",
        "1. a currency represented using a string (e.g., 'JPY' for the Japanese Yen or\n",
        "'EUR' for the Euro)\n",
        "2. an amount\n",
        "and then converts and returns the amount in US dolla\n",
        ">>> curconv('EUR', 100)\n",
        "122.44\n",
        ">>> curconv('JPY', 100)\n",
        "1.241401\n",
        "The currency rates you will need are stored in file currencies.txt:\n",
        "AUD 1.0345157 Australian Dollar\n",
        "CHF 1.0237414 Swiss Franc\n",
        "CNY 0.1550176\n",
        "DKK 0.1651442 Danish Krone\n",
        "EUR 1.2296544 Euro\n",
        "GBP 1.5550989 British Pound\n",
        "HKD 0.1270207 Hong Kong Dollar\n",
        "INR 0.0177643 Indian Rupee\n",
        "JPY 0.01241401 Japanese Yen\n",
        "MXN 0.0751848 Mexican Peso\n",
        "MYR 0.3145411 Malaysian Ringgit\n",
        "NOK 0.1677063 Norwegian Krone\n",
        "NZD 0.8003591 New Zealand Dollar\n",
        "PHP 0.0233234 Philippine Peso\n",
        "SEK 0.148269 Swedish Krona\n",
        "SGD 0.788871 Singapore Dollar\n",
        "THB 0.0313789 Thai Baht\n",
        "Chinese Yuan"
      ]
    },
    {
      "cell_type": "code",
      "execution_count": 8,
      "id": "3a195588-5021-4d4e-ae1f-32fec001d7f1",
      "metadata": {
        "colab": {
          "base_uri": "https://localhost:8080/"
        },
        "id": "3a195588-5021-4d4e-ae1f-32fec001d7f1",
        "outputId": "ee03b22e-17f4-4b52-8e44-bacf1f953f3e"
      },
      "outputs": [
        {
          "output_type": "stream",
          "name": "stdout",
          "text": [
            "122.96544\n",
            "1.241401\n"
          ]
        }
      ],
      "source": [
        "dic = {}\n",
        "f = open(\"currencies.txt\",\"r\")\n",
        "for line in f:\n",
        "\n",
        "    x = line.split(\"\\t\")\n",
        "\n",
        "    j=x[0]\n",
        "    k=x[1]\n",
        "    dic[j]=k\n",
        "\n",
        "def curconv(key,value):\n",
        "    c=float(dic[key])*value\n",
        "    return c\n",
        "\n",
        "print(curconv('EUR', 100))\n",
        "print(curconv('JPY', 100))\n"
      ]
    },
    {
      "cell_type": "markdown",
      "id": "234c80f7-87df-4817-bbf5-725c78af068a",
      "metadata": {
        "id": "234c80f7-87df-4817-bbf5-725c78af068a"
      },
      "source": [
        "# Question 9\n",
        "Each of the following will cause an exception (an error). Identify what type of\n",
        "exception each will cause.\n",
        "Trying to add incompatible variables, as in\n",
        "adding 6 + ‘a’\n",
        "Referring to the 12th item of a list that has only 10\n",
        "items\n",
        "Using a value that is out of range for a function’s\n",
        "input, such as calling math.sqrt(-1.0)\n",
        "Using an undeclared variable, such as print(x)\n",
        "when x has not been defined\n",
        "Trying to open a file that does not exist, such as\n",
        "mistyping the file name or looking in the wrong\n",
        "directory."
      ]
    },
    {
      "cell_type": "code",
      "execution_count": null,
      "id": "8a8a7cbc-8d66-4543-b99c-2a28a9053e86",
      "metadata": {
        "id": "8a8a7cbc-8d66-4543-b99c-2a28a9053e86",
        "outputId": "5f50ff90-93b1-4d4b-d9f1-6ac0e98b741f"
      },
      "outputs": [
        {
          "ename": "TypeError",
          "evalue": "unsupported operand type(s) for +: 'int' and 'str'",
          "output_type": "error",
          "traceback": [
            "\u001b[1;31m---------------------------------------------------------------------------\u001b[0m",
            "\u001b[1;31mTypeError\u001b[0m                                 Traceback (most recent call last)",
            "Cell \u001b[1;32mIn[32], line 1\u001b[0m\n\u001b[1;32m----> 1\u001b[0m \u001b[38;5;241m6\u001b[39m\u001b[38;5;241m+\u001b[39m\u001b[38;5;124m'\u001b[39m\u001b[38;5;124ma\u001b[39m\u001b[38;5;124m'\u001b[39m\n",
            "\u001b[1;31mTypeError\u001b[0m: unsupported operand type(s) for +: 'int' and 'str'"
          ]
        }
      ],
      "source": [
        "6+'a'"
      ]
    },
    {
      "cell_type": "code",
      "execution_count": null,
      "id": "5c87a41c-06ce-416f-b1b5-524a39d6c07c",
      "metadata": {
        "id": "5c87a41c-06ce-416f-b1b5-524a39d6c07c",
        "outputId": "48e68573-a1cc-4132-9725-c01640a7d3ea"
      },
      "outputs": [
        {
          "ename": "IndexError",
          "evalue": "list index out of range",
          "output_type": "error",
          "traceback": [
            "\u001b[1;31m---------------------------------------------------------------------------\u001b[0m",
            "\u001b[1;31mIndexError\u001b[0m                                Traceback (most recent call last)",
            "Cell \u001b[1;32mIn[28], line 2\u001b[0m\n\u001b[0;32m      1\u001b[0m lst\u001b[38;5;241m=\u001b[39m[\u001b[38;5;241m1\u001b[39m,\u001b[38;5;241m2\u001b[39m,\u001b[38;5;241m3\u001b[39m,\u001b[38;5;241m4\u001b[39m,\u001b[38;5;241m5\u001b[39m,\u001b[38;5;241m6\u001b[39m,\u001b[38;5;241m7\u001b[39m,\u001b[38;5;241m8\u001b[39m,\u001b[38;5;241m9\u001b[39m,\u001b[38;5;241m10\u001b[39m]\n\u001b[1;32m----> 2\u001b[0m \u001b[38;5;28mprint\u001b[39m(lst[\u001b[38;5;241m11\u001b[39m])\n",
            "\u001b[1;31mIndexError\u001b[0m: list index out of range"
          ]
        }
      ],
      "source": [
        "\n",
        "lst=[1,2,3,4,5,6,7,8,9,10]\n",
        "print(lst[11])\n",
        "\n"
      ]
    },
    {
      "cell_type": "code",
      "execution_count": null,
      "id": "761f0fa3-9c83-4c82-88e5-124a1e9a4618",
      "metadata": {
        "id": "761f0fa3-9c83-4c82-88e5-124a1e9a4618",
        "outputId": "a0016282-edea-4b1b-b34d-a1f122d954f4"
      },
      "outputs": [
        {
          "ename": "ValueError",
          "evalue": "math domain error",
          "output_type": "error",
          "traceback": [
            "\u001b[1;31m---------------------------------------------------------------------------\u001b[0m",
            "\u001b[1;31mValueError\u001b[0m                                Traceback (most recent call last)",
            "Cell \u001b[1;32mIn[29], line 2\u001b[0m\n\u001b[0;32m      1\u001b[0m \u001b[38;5;28;01mimport\u001b[39;00m \u001b[38;5;21;01mmath\u001b[39;00m\n\u001b[1;32m----> 2\u001b[0m \u001b[38;5;28mprint\u001b[39m(math\u001b[38;5;241m.\u001b[39msqrt(\u001b[38;5;241m-\u001b[39m\u001b[38;5;241m1\u001b[39m))\n",
            "\u001b[1;31mValueError\u001b[0m: math domain error"
          ]
        }
      ],
      "source": [
        "import math\n",
        "print(math.sqrt(-1))\n"
      ]
    },
    {
      "cell_type": "code",
      "execution_count": null,
      "id": "23951c37-f951-4336-b56a-28088bcd77dd",
      "metadata": {
        "id": "23951c37-f951-4336-b56a-28088bcd77dd",
        "outputId": "55fa71c9-0d49-4bff-d07f-feb41e4ea53d"
      },
      "outputs": [
        {
          "ename": "NameError",
          "evalue": "name 'z' is not defined",
          "output_type": "error",
          "traceback": [
            "\u001b[1;31m---------------------------------------------------------------------------\u001b[0m",
            "\u001b[1;31mNameError\u001b[0m                                 Traceback (most recent call last)",
            "Cell \u001b[1;32mIn[30], line 2\u001b[0m\n\u001b[0;32m      1\u001b[0m y \u001b[38;5;241m=\u001b[39m \u001b[38;5;241m10\u001b[39m\n\u001b[1;32m----> 2\u001b[0m \u001b[38;5;28mprint\u001b[39m(z)\n",
            "\u001b[1;31mNameError\u001b[0m: name 'z' is not defined"
          ]
        }
      ],
      "source": [
        "y = 10\n",
        "print(z)\n"
      ]
    },
    {
      "cell_type": "code",
      "execution_count": null,
      "id": "24b8a662-5643-42b5-a132-e72305333d40",
      "metadata": {
        "id": "24b8a662-5643-42b5-a132-e72305333d40",
        "outputId": "a5423e74-329b-45a3-b9c4-c6c71c6ddfeb"
      },
      "outputs": [
        {
          "ename": "FileNotFoundError",
          "evalue": "[Errno 2] No such file or directory: 'sample.txt'",
          "output_type": "error",
          "traceback": [
            "\u001b[1;31m---------------------------------------------------------------------------\u001b[0m",
            "\u001b[1;31mFileNotFoundError\u001b[0m                         Traceback (most recent call last)",
            "Cell \u001b[1;32mIn[31], line 1\u001b[0m\n\u001b[1;32m----> 1\u001b[0m f \u001b[38;5;241m=\u001b[39m \u001b[38;5;28mopen\u001b[39m(\u001b[38;5;124m\"\u001b[39m\u001b[38;5;124msample.txt\u001b[39m\u001b[38;5;124m\"\u001b[39m)\n\u001b[0;32m      2\u001b[0m \u001b[38;5;28mprint\u001b[39m(f)\n",
            "File \u001b[1;32m~\\anaconda3\\Lib\\site-packages\\IPython\\core\\interactiveshell.py:310\u001b[0m, in \u001b[0;36m_modified_open\u001b[1;34m(file, *args, **kwargs)\u001b[0m\n\u001b[0;32m    303\u001b[0m \u001b[38;5;28;01mif\u001b[39;00m file \u001b[38;5;129;01min\u001b[39;00m {\u001b[38;5;241m0\u001b[39m, \u001b[38;5;241m1\u001b[39m, \u001b[38;5;241m2\u001b[39m}:\n\u001b[0;32m    304\u001b[0m     \u001b[38;5;28;01mraise\u001b[39;00m \u001b[38;5;167;01mValueError\u001b[39;00m(\n\u001b[0;32m    305\u001b[0m         \u001b[38;5;124mf\u001b[39m\u001b[38;5;124m\"\u001b[39m\u001b[38;5;124mIPython won\u001b[39m\u001b[38;5;124m'\u001b[39m\u001b[38;5;124mt let you open fd=\u001b[39m\u001b[38;5;132;01m{\u001b[39;00mfile\u001b[38;5;132;01m}\u001b[39;00m\u001b[38;5;124m by default \u001b[39m\u001b[38;5;124m\"\u001b[39m\n\u001b[0;32m    306\u001b[0m         \u001b[38;5;124m\"\u001b[39m\u001b[38;5;124mas it is likely to crash IPython. If you know what you are doing, \u001b[39m\u001b[38;5;124m\"\u001b[39m\n\u001b[0;32m    307\u001b[0m         \u001b[38;5;124m\"\u001b[39m\u001b[38;5;124myou can use builtins\u001b[39m\u001b[38;5;124m'\u001b[39m\u001b[38;5;124m open.\u001b[39m\u001b[38;5;124m\"\u001b[39m\n\u001b[0;32m    308\u001b[0m     )\n\u001b[1;32m--> 310\u001b[0m \u001b[38;5;28;01mreturn\u001b[39;00m io_open(file, \u001b[38;5;241m*\u001b[39margs, \u001b[38;5;241m*\u001b[39m\u001b[38;5;241m*\u001b[39mkwargs)\n",
            "\u001b[1;31mFileNotFoundError\u001b[0m: [Errno 2] No such file or directory: 'sample.txt'"
          ]
        }
      ],
      "source": [
        "f = open(\"sample.txt\")\n",
        "print(f)"
      ]
    },
    {
      "cell_type": "markdown",
      "id": "de7288e6-7170-45de-bcab-1d5001a0f3fb",
      "metadata": {
        "id": "de7288e6-7170-45de-bcab-1d5001a0f3fb"
      },
      "source": [
        "Summary of the answer:\n",
        "1. Trying to add incompatible variables, as in\n",
        "adding 6 + ‘a’ for this Exception type is \"TypeError\"\n",
        "2. Referring to the 12th item of a list that has only 10\n",
        "items  for this Exception type is \"IndexError\"\n",
        "3. Using a value that is out of range for a function’s\n",
        "input, such as calling math.sqrt(-1.0) for this Exception type is \"ValueError\"\n",
        "4. Using an undeclared variable, such as print(x)\n",
        "when x has not been defined for this Exception type is \"NameError\"\n",
        "5. Trying to open a file that does not exist, such as\n",
        "mistyping the file name or looking in the wrong\n",
        "directory. for this Exception type is \"FileNotFoundError\"\n",
        "\n"
      ]
    },
    {
      "cell_type": "markdown",
      "id": "6f160534-a92a-430b-9938-0b1645a45bd7",
      "metadata": {
        "id": "6f160534-a92a-430b-9938-0b1645a45bd7"
      },
      "source": [
        "# Question 10\n",
        "Encryption is the process of hiding the meaning of a text by substituting letters in the\n",
        "message with other letters, according to some system. If the process is successful, no\n",
        "one but the intended recipient can understand the encrypted message. Cryptanalysis\n",
        "refers to attempts to undo the encryption, even if some details of the encryption are\n",
        "unknown (for example, if an encrypted message has been intercepted). The first step\n",
        "of cryptanalysis is often to build up a table of letter frequencies in the encrypted text.\n",
        "Assume that the string letters is already defined as\n",
        "'abcdefghijklmnopqrstuvwxyz'. Write a function called frequencies()\n",
        "that takes a string as its only parameter, and returns a list of integers, showing the\n",
        "number of times each character appears in the text. Your function may ignore any\n",
        "characters that are not intters.\n",
        ">>> frequencies('The quick red fox got bored and went home.')\n",
        "[1, 1, 1, 3, 5, 1, 1, 2, 1, 0, 1, 0, 1, 2, 4, 0, 1, 2, 0, 2,\n",
        "1, 0, 1, 0, 0]\n",
        ">>> frequencies('apple')"
      ]
    },
    {
      "cell_type": "code",
      "execution_count": null,
      "id": "d39103df-f317-4df7-a8eb-8e96c3c54870",
      "metadata": {
        "id": "d39103df-f317-4df7-a8eb-8e96c3c54870",
        "outputId": "54ddcb9d-00b5-4e0a-e692-981412a36f5d"
      },
      "outputs": [
        {
          "name": "stdout",
          "output_type": "stream",
          "text": [
            "[1, 1, 1, 3, 5, 1, 1, 2, 1, 0, 1, 0, 1, 2, 4, 0, 1, 2, 0, 3, 1, 0, 1, 1, 0, 0]\n",
            "[1, 0, 0, 0, 1, 0, 0, 0, 0, 0, 0, 1, 0, 0, 0, 2, 0, 0, 0, 0, 0, 0, 0, 0, 0, 0]\n"
          ]
        }
      ],
      "source": [
        "def frequencies(text):\n",
        "    letters = 'abcdefghijklmnopqrstuvwxyz'\n",
        "    freqlist = [0]*26\n",
        "    for char in text.lower():\n",
        "        if char in letters:\n",
        "            index = letters.index(char)\n",
        "            freqlist[index] += 1\n",
        "\n",
        "    return freqlist\n",
        "\n",
        "print(frequencies('The quick red fox got bored and went home.'))\n",
        "print(frequencies('apple'))\n",
        ""
      ]
    },
    {
      "cell_type": "code",
      "execution_count": null,
      "id": "00286b98-c31c-45a4-8ffc-19238eea9284",
      "metadata": {
        "id": "00286b98-c31c-45a4-8ffc-19238eea9284"
      },
      "outputs": [],
      "source": []
    }
  ],
  "metadata": {
    "kernelspec": {
      "display_name": "Python 3 (ipykernel)",
      "language": "python",
      "name": "python3"
    },
    "language_info": {
      "codemirror_mode": {
        "name": "ipython",
        "version": 3
      },
      "file_extension": ".py",
      "mimetype": "text/x-python",
      "name": "python",
      "nbconvert_exporter": "python",
      "pygments_lexer": "ipython3",
      "version": "3.11.7"
    },
    "colab": {
      "provenance": []
    }
  },
  "nbformat": 4,
  "nbformat_minor": 5
}