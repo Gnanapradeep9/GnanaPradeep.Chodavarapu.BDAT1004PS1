{
 "cells": [
  {
   "cell_type": "markdown",
   "id": "88a17629-61f2-43f0-bb35-0a55edab0083",
   "metadata": {},
   "source": [
    "# Question 1\n",
    "What data type is each of the following (evaluate where necessary)?\r\n",
    "5\r\n",
    "5.0\r\n",
    "5 > 1\r\n",
    "'5'\r\n",
    "5 * 2\r\n",
    "'5' * 2\r\n",
    "'5' + '2'\r\n",
    "5 / 2\r\n",
    "5 % 2\r\n",
    "{5, 2, 1}\r\n",
    "5 == 3\r\n",
    "Pi (the number)"
   ]
  },
  {
   "cell_type": "markdown",
   "id": "b4ba2193-6a8c-4ab4-adb3-b7aba7da38ce",
   "metadata": {},
   "source": [
    "Data given                   Data Type\n",
    "  5       ----------------    Integer\n",
    "  5.0     ----------------    Floating point number\n",
    "  5 > 1 (true)  ----------    Boolean\n",
    "  '5'     ----------------    String\n",
    "  5 * 2 (5*2 = 10) -------    Integer\n",
    "  '5' * 2 ('55') ---------    String\n",
    "  '5' + '2' ('52') -------    String\n",
    "  5 / 2  (5 / 2 = 2.5)  --    Floating point number\n",
    "  5 % 2  (5 % 2 = 1) -----    Integer\n",
    "  {5, 2, 1}   ------------    Set\n",
    "  5 == 3  (False)---------    Boolean\n",
    "  Pi (3.142)     ---------    Floating point number\n",
    "  \n",
    "\n"
   ]
  },
  {
   "cell_type": "code",
   "execution_count": 17,
   "id": "f9e64a6b-2cc2-424a-8786-75d630427fbe",
   "metadata": {},
   "outputs": [
    {
     "name": "stdout",
     "output_type": "stream",
     "text": [
      "<class 'int'>\n",
      "<class 'float'>\n",
      "<class 'bool'>\n",
      "<class 'str'>\n",
      "<class 'int'>\n",
      "<class 'str'>\n",
      "<class 'str'>\n",
      "<class 'float'>\n",
      "<class 'int'>\n",
      "<class 'set'>\n",
      "<class 'bool'>\n",
      "<class 'float'>\n"
     ]
    }
   ],
   "source": [
    "print(type(5))\n",
    "print(type(5.0))\n",
    "print(type(5 > 1))\n",
    "print(type('5'))\n",
    "print(type(5 * 2))\n",
    "print(type('5' * 2))\n",
    "print(type('5' + '2'))\n",
    "print(type(5 / 2))\n",
    "print(type(5 % 2))\n",
    "print(type({5, 2, 1}))\n",
    "print(type(5 == 3))\n",
    "print(type(3.142))\n"
   ]
  },
  {
   "cell_type": "markdown",
   "id": "ce02801d-b8b2-4ad0-9292-225663ac78ab",
   "metadata": {},
   "source": [
    "# Question 2\r",
    "Write (and evaluate) Python expressions that answer these questions:\r\n",
    "a. How many letters are there in 'Supercalifragilisticexpialidocious'?\r\n",
    "b. Does 'Supercalifragilisticexpialidocious' contain 'ice' as a substrin\n",
    "c. Which of the following words is the longest:\r\n",
    "Supercalifragilisticexpialidocious, Honorificabilitudinitatibus, or\r\n",
    "Bababadalgharaghtakamminarronnkonn?\r\n",
    "d. Which composer comes first in the dictionary: 'Berlioz', 'Borodin', 'Brian',\r\n",
    "'Bartok', 'Bellini', 'Buxtehude', 'Bernstein'. Which one comes last?g?"
   ]
  },
  {
   "cell_type": "code",
   "execution_count": 39,
   "id": "1562e225-328c-4fd6-8e6e-1361a95d0a06",
   "metadata": {},
   "outputs": [
    {
     "name": "stdout",
     "output_type": "stream",
     "text": [
      "34\n",
      "True\n",
      "Supercalifragilisticexpialidocious\n",
      "Bartok\n",
      "Buxtehude\n"
     ]
    }
   ],
   "source": [
    "x = 'Supercalifragilisticexpialidocious'     #code for part a in question 2\n",
    "print(len(x))\n",
    "\n",
    "print ( 'ice'in 'Supercalifragilisticexpialidocious')  #code for part b in question 2\n",
    "\n",
    "lst = ['Supercalifragilisticexpialidocious', 'Honorificabilitudinitatibus', 'Bababadalgharaghtakamminarronnkonn'  ] # Create list with 3 strings given \n",
    "print(max(lst)) \n",
    "\n",
    "composers = [ 'Berlioz', 'Borodin', 'Brian','Bartok', 'Bellini', 'Buxtehude', 'Bernstein']  #code for part d in question 2\n",
    "composers.sort()\n",
    "first_composer = composers[0]\n",
    "last_composer = composers[-1]\n",
    "print(first_composer)\n",
    "print(last_composer)\n",
    "\n",
    "\n",
    "\n"
   ]
  },
  {
   "cell_type": "markdown",
   "id": "6c07cef6-00e8-4d4d-9824-e17606d0d20e",
   "metadata": {},
   "source": [
    "# Question 3\n",
    "Implement function triangleArea(a,b,c) that takes as input the lengths of the 3\r\n",
    "sides of a triangle and returns the area of the triangle. By Heron's formula, the area\r\n",
    "of a triangle with side lengths a, b, and c is\r\n",
    "s(s - a)(s -b)(s -c)\r\n",
    ", where\r\n",
    "s = (a+b+c)/2.\r\n",
    ">>> triangleArea(2,2,2)\r\n",
    "1.7320508075688772\r\n"
   ]
  },
  {
   "cell_type": "code",
   "execution_count": 21,
   "id": "887491c0-93c5-4732-9067-adfa2c5daed9",
   "metadata": {},
   "outputs": [
    {
     "name": "stdout",
     "output_type": "stream",
     "text": [
      "1.7320508075688772\n"
     ]
    }
   ],
   "source": [
    "import math\n",
    "def triangleArea (a,b,c):   # define a function \n",
    "    s=(a+b+c)/2\n",
    "    area=math.sqrt(s*(s-a)*(s-b)*(s-c))\n",
    "    return area\n",
    "\n",
    "print(triangleArea(2,2,2))\n",
    "\n",
    "    \n",
    "    \n"
   ]
  },
  {
   "cell_type": "markdown",
   "id": "6a02416c-f776-411c-8361-7d207a2797e7",
   "metadata": {},
   "source": [
    "# Question 4\n",
    "Write a program in Python to separate odd and even integers in separate arrays. Go\r\n",
    "to the editor\r\n",
    "Test Data :\r\n",
    "Input the number of elements to be stored in the aray :5\r\n",
    "Input 5 elements in the array :\r\n",
    "elemen - 0 : 25\r\n",
    "elemet - 1 : 47\r\n",
    "elemnt - 2 : 42\r\n",
    "eleent - 3 : 56\r\n",
    "elment - 4 : 32\r\n",
    "Expected Output:\r\n",
    "The Even elements are:\r\n",
    "42 56 32\r\n",
    "The Odd elements are :\r\n",
    "25 47"
   ]
  },
  {
   "cell_type": "code",
   "execution_count": 49,
   "id": "202e268d-f693-4395-9e5b-9b824023e5b2",
   "metadata": {},
   "outputs": [
    {
     "name": "stdin",
     "output_type": "stream",
     "text": [
      "Input the number of elements to be stored in the array:  5\n"
     ]
    },
    {
     "name": "stdout",
     "output_type": "stream",
     "text": [
      "Input 5 elements in the array:\n"
     ]
    },
    {
     "name": "stdin",
     "output_type": "stream",
     "text": [
      "element - 0:  25\n",
      "element - 1:  47\n",
      "element - 2:  42\n",
      "element - 3:  56\n",
      "element - 4:  32\n"
     ]
    },
    {
     "name": "stdout",
     "output_type": "stream",
     "text": [
      "The Even elements are:\n",
      "42 56 32 \n",
      "The Odd elements are:\n",
      "25 47 \n"
     ]
    }
   ],
   "source": [
    "def separate_odd_even():\n",
    "    \n",
    "    n = int(input(\"Input the number of elements to be stored in the array: \"))\n",
    "    \n",
    "    \n",
    "    elements = []\n",
    "    \n",
    "    \n",
    "    print(\"Input {} elements in the array:\".format(n))         # Take input for each element\n",
    "    for i in range(n):\n",
    "        element = int(input(\"element - {}: \".format(i)))\n",
    "        elements.append(element)\n",
    "    \n",
    "    \n",
    "    even_elements = []     # Initialize arrays for odd and even numbers\n",
    "    odd_elements = []\n",
    "    \n",
    "   \n",
    "    for element in elements:\n",
    "        if element % 2 == 0:\n",
    "            even_elements.append(element)\n",
    "        else:\n",
    "            odd_elements.append(element)\n",
    "    \n",
    "    print(\"The Even elements are:\")\n",
    "    for even in even_elements:\n",
    "        print(even, end=' ')\n",
    "    print(\"\\nThe Odd elements are:\")\n",
    "    for odd in odd_elements:\n",
    "        print(odd, end=' ')\n",
    "    print()\n",
    "\n",
    "\n",
    "separate_odd_even()\n"
   ]
  },
  {
   "cell_type": "markdown",
   "id": "fd13a54b-5911-434e-91df-32a523337184",
   "metadata": {},
   "source": [
    "# Question 5\n",
    "a. Write a function inside(x,y,x1,y1,x2,y2) that returns True or False\r\n",
    "depending on whether the point (x,y) lies in the rectangle with lower left\r\n",
    "corner (x1,y1) and upper right corner (x2,y2).\r\n",
    ">>> inside(1,1,0,0,2,3)\r\n",
    "True\r\n",
    ">>> inside(-1,-1,0,0,2,3)\r\n",
    "False\r\n",
    "b. Use function inside() from part a. to write an expression that tests whether\r\n",
    "the point (1,1) lies in both of the following rectangles: one with lower left\r\n",
    "corner (0.3, 0.5) and upper right corner (1.1, 0.7) and the other with lower\r\n",
    "left corner (0.5, 0.2) and upper right corner (1.1, 2). "
   ]
  },
  {
   "cell_type": "code",
   "execution_count": 25,
   "id": "1feea4a8-01f0-4297-96b8-fe826b1b12b6",
   "metadata": {},
   "outputs": [
    {
     "name": "stdout",
     "output_type": "stream",
     "text": [
      "True\n",
      "False\n",
      "False\n"
     ]
    }
   ],
   "source": [
    "def inside(x,y,x1,y1,x2,y2):\n",
    "    return x1 <= x <= x2 and y1 <= y<= y2 \n",
    "print(inside(1,1,0,0,2,3))\n",
    "print(inside(-1,-1,0,0,2,3))\n",
    "#the point\n",
    "px=1\n",
    "py=1\n",
    "#rectangle 1 coordinates of corners\n",
    "r1x1=0.3\n",
    "r1y1=0.5\n",
    "r1x2=1.1\n",
    "r1y2=0.7\n",
    "#rectangle 2 coordinates of corners\n",
    "r2x1=0.5\n",
    "r2y1=0.2\n",
    "r2x2=1.1\n",
    "r2y2=2\n",
    "insideboth_rectangles = inside(px,py,r1x1,r1y1,r1x2,r1y2) and inside(px,py,r2x1,r2y1,r2x2,r2y2)\n",
    "print(insideboth_rectangles)\n",
    "\n",
    "    "
   ]
  },
  {
   "cell_type": "markdown",
   "id": "9b14a2dd-bff4-4d69-a931-daf14a2c7c89",
   "metadata": {},
   "source": [
    "# Question 6\n",
    "6. You can turn a word into pig-Latin using the following two rules (simplified):\r\n",
    "• If the word starts with a consonant, move that letter to the end and append\r\n",
    "'ay'. For example, 'happy' becomes 'appyhay' and 'pencil' becomes 'encilpay'.\r\n",
    "• If the word starts with a vowel, simply append 'way' to the end of the word.\r\n",
    "For example, 'enter' becomes 'enterway' and 'other' becomes 'otherway' . For\r\n",
    "our purposes, there are 5 vowels: a, e, i, o, u (so we count y as a consonant).\r\n",
    "Write a function pig() that takes a word (i.e., a string) as input and returns its pigLatin form. Your function should still work if the input word contains upper case\r\n",
    "characters. Your output should always be lower case however.\r\n",
    ">>> pig('happy')\r\n",
    "'appyhay'\r\n",
    ">>> pig('Enter')\r\n",
    "'enterway' "
   ]
  },
  {
   "cell_type": "code",
   "execution_count": 37,
   "id": "e1d977bd-299f-450d-82ba-fbd9a36ab9ef",
   "metadata": {},
   "outputs": [
    {
     "name": "stdout",
     "output_type": "stream",
     "text": [
      "appyhay\n",
      "enterway\n"
     ]
    }
   ],
   "source": [
    "def pig(word):\n",
    "    word = word.lower()\n",
    "    vowels = 'aeiou'\n",
    "    if word[0] in vowels:\n",
    "        return word + 'way'\n",
    "    else:\n",
    "        return word[1:] + word[0] + 'ay'\n",
    "\n",
    "print(pig('happy'))\n",
    "print(pig('Enter'))\n",
    "      "
   ]
  },
  {
   "cell_type": "markdown",
   "id": "70d1ecb8-d4c3-46c5-a0fd-1410100605b6",
   "metadata": {},
   "source": [
    "# Question 7\n",
    "File bloodtype1.txt records blood-types of patients (A, B, AB, O or OO) at a clinic.\r\n",
    "Write a function bldcount() that reads the file with name name and reports (i.e.,\r\n",
    "prints) how many patients there are in each bloodtype.\r\n",
    ">>> bldcount('bloodtype.txt')\r\n",
    "There are 10 patients of blood type A.\r\n",
    "There is one patient of blood type B.\r\n",
    "There are 10 patients of blood type AB.\r\n",
    "There are 12 patients of blood type O.\r\n",
    "There are no patients of blood type OO.\r"
   ]
  },
  {
   "cell_type": "code",
   "execution_count": 46,
   "id": "d2b41396-5c5c-4b08-8a55-6a71ee485c31",
   "metadata": {},
   "outputs": [
    {
     "ename": "NameError",
     "evalue": "name 'bloodtype' is not defined",
     "output_type": "error",
     "traceback": [
      "\u001b[1;31m---------------------------------------------------------------------------\u001b[0m",
      "\u001b[1;31mNameError\u001b[0m                                 Traceback (most recent call last)",
      "Cell \u001b[1;32mIn[46], line 26\u001b[0m\n\u001b[0;32m     23\u001b[0m         \u001b[38;5;28;01melse\u001b[39;00m:\n\u001b[0;32m     24\u001b[0m             \u001b[38;5;28mprint\u001b[39m(\u001b[38;5;124mf\u001b[39m\u001b[38;5;124m\"\u001b[39m\u001b[38;5;124mThere are \u001b[39m\u001b[38;5;132;01m{\u001b[39;00mcount\u001b[38;5;132;01m}\u001b[39;00m\u001b[38;5;124m patients of blood type \u001b[39m\u001b[38;5;132;01m{\u001b[39;00mblood_type\u001b[38;5;132;01m}\u001b[39;00m\u001b[38;5;124m.\u001b[39m\u001b[38;5;124m\"\u001b[39m)\n\u001b[1;32m---> 26\u001b[0m bldcount(bloodtype)\n",
      "\u001b[1;31mNameError\u001b[0m: name 'bloodtype' is not defined"
     ]
    }
   ],
   "source": [
    "def bldcount(filename):\n",
    "    \n",
    "    blood_types = ['A', 'B', 'AB', 'O', 'OO']\n",
    "    counts = {blood_type: 0 for blood_type in blood_types}\n",
    "    \n",
    "    \n",
    "    with open(filename, 'r') as file:              #read the file\n",
    "        content = file.read().strip()\n",
    "        blood_type_list = content.split()\n",
    "    \n",
    "\n",
    "    for blood_type in blood_type_list:            #count the occurrences of blood types\n",
    "        if blood_type in counts:\n",
    "            counts[blood_type] += 1\n",
    "    \n",
    "    \n",
    "    for blood_type in blood_types:\n",
    "        count = counts[blood_type]\n",
    "        if count == 0:\n",
    "            print(f\"There are no patients of blood type {blood_type}.\")\n",
    "        elif count == 1:\n",
    "            print(f\"There is one patient of blood type {blood_type}.\")\n",
    "        else:\n",
    "            print(f\"There are {count} patients of blood type {blood_type}.\")\n",
    "\n",
    "bldcount(bloodtype)\n",
    "\n"
   ]
  },
  {
   "cell_type": "markdown",
   "id": "7be22990-9089-4360-9af4-7310c21f9cba",
   "metadata": {},
   "source": [
    "# Question 8\n",
    "Write a function curconv() that takes as input:\r\n",
    "1. a currency represented using a string (e.g., 'JPY' for the Japanese Yen or\r\n",
    "'EUR' for the Euro)\r\n",
    "2. an amount\r\n",
    "and then converts and returns the amount in US dollars.\r\n",
    ">>> curconv('EUR', 100)\r\n",
    "122.96544\r\n",
    ">>> curconv('JPY', 100)\r\n",
    "1.241401\r\n",
    "The currency rates you will need are stored in file currencies.txt:\r\n",
    "AUD 1.0345157 Australian Dollar\r\n",
    "CHF 1.0237414 Swiss Franc\r\n",
    "CNY 0.1550176 \n",
    "DKK 0.1651442 Danish Krone\r\n",
    "EUR 1.2296544 Euro\r\n",
    "GBP 1.5550989 British Pound\r\n",
    "HKD 0.1270207 Hong Kong Dollar\r\n",
    "INR 0.0177643 Indian Rupee\r\n",
    "JPY 0.01241401 Japanese Yen\r\n",
    "MXN 0.0751848 Mexican Peso\r\n",
    "MYR 0.3145411 Malaysian Ringgit\r\n",
    "NOK 0.1677063 Norwegian Krone\r\n",
    "NZD 0.8003591 New Zealand Dollar\r\n",
    "PHP 0.0233234 Philippine Peso\r\n",
    "SEK 0.148269 Swedish Krona\r\n",
    "SGD 0.788871 Singapore Dollar\r\n",
    "THB 0.0313789 Thai Baht\r",
    "Chinese Yuan"
   ]
  },
  {
   "cell_type": "code",
   "execution_count": null,
   "id": "3a195588-5021-4d4e-ae1f-32fec001d7f1",
   "metadata": {},
   "outputs": [],
   "source": []
  },
  {
   "cell_type": "markdown",
   "id": "234c80f7-87df-4817-bbf5-725c78af068a",
   "metadata": {},
   "source": [
    "# Question 9\n",
    "Each of the following will cause an exception (an error). Identify what type of\r\n",
    "exception each will cause.\r\n",
    "Trying to add incompatible variables, as in\r\n",
    "adding 6 + ‘a’\r\n",
    "Referring to the 12th item of a list that has only 10\r\n",
    "items\r\n",
    "Using a value that is out of range for a function’s\r\n",
    "input, such as calling math.sqrt(-1.0)\r\n",
    "Using an undeclared variable, such as print(x)\r\n",
    "when x has not been defined\r\n",
    "Trying to open a file that does not exist, such as\r\n",
    "mistyping the file name or looking in the wrong\r\n",
    "directory. "
   ]
  },
  {
   "cell_type": "code",
   "execution_count": 32,
   "id": "8a8a7cbc-8d66-4543-b99c-2a28a9053e86",
   "metadata": {},
   "outputs": [
    {
     "ename": "TypeError",
     "evalue": "unsupported operand type(s) for +: 'int' and 'str'",
     "output_type": "error",
     "traceback": [
      "\u001b[1;31m---------------------------------------------------------------------------\u001b[0m",
      "\u001b[1;31mTypeError\u001b[0m                                 Traceback (most recent call last)",
      "Cell \u001b[1;32mIn[32], line 1\u001b[0m\n\u001b[1;32m----> 1\u001b[0m \u001b[38;5;241m6\u001b[39m\u001b[38;5;241m+\u001b[39m\u001b[38;5;124m'\u001b[39m\u001b[38;5;124ma\u001b[39m\u001b[38;5;124m'\u001b[39m\n",
      "\u001b[1;31mTypeError\u001b[0m: unsupported operand type(s) for +: 'int' and 'str'"
     ]
    }
   ],
   "source": [
    "6+'a'"
   ]
  },
  {
   "cell_type": "code",
   "execution_count": 28,
   "id": "5c87a41c-06ce-416f-b1b5-524a39d6c07c",
   "metadata": {},
   "outputs": [
    {
     "ename": "IndexError",
     "evalue": "list index out of range",
     "output_type": "error",
     "traceback": [
      "\u001b[1;31m---------------------------------------------------------------------------\u001b[0m",
      "\u001b[1;31mIndexError\u001b[0m                                Traceback (most recent call last)",
      "Cell \u001b[1;32mIn[28], line 2\u001b[0m\n\u001b[0;32m      1\u001b[0m lst\u001b[38;5;241m=\u001b[39m[\u001b[38;5;241m1\u001b[39m,\u001b[38;5;241m2\u001b[39m,\u001b[38;5;241m3\u001b[39m,\u001b[38;5;241m4\u001b[39m,\u001b[38;5;241m5\u001b[39m,\u001b[38;5;241m6\u001b[39m,\u001b[38;5;241m7\u001b[39m,\u001b[38;5;241m8\u001b[39m,\u001b[38;5;241m9\u001b[39m,\u001b[38;5;241m10\u001b[39m]\n\u001b[1;32m----> 2\u001b[0m \u001b[38;5;28mprint\u001b[39m(lst[\u001b[38;5;241m11\u001b[39m])\n",
      "\u001b[1;31mIndexError\u001b[0m: list index out of range"
     ]
    }
   ],
   "source": [
    "\n",
    "lst=[1,2,3,4,5,6,7,8,9,10]\n",
    "print(lst[11])\n",
    "\n"
   ]
  },
  {
   "cell_type": "code",
   "execution_count": 29,
   "id": "761f0fa3-9c83-4c82-88e5-124a1e9a4618",
   "metadata": {},
   "outputs": [
    {
     "ename": "ValueError",
     "evalue": "math domain error",
     "output_type": "error",
     "traceback": [
      "\u001b[1;31m---------------------------------------------------------------------------\u001b[0m",
      "\u001b[1;31mValueError\u001b[0m                                Traceback (most recent call last)",
      "Cell \u001b[1;32mIn[29], line 2\u001b[0m\n\u001b[0;32m      1\u001b[0m \u001b[38;5;28;01mimport\u001b[39;00m \u001b[38;5;21;01mmath\u001b[39;00m\n\u001b[1;32m----> 2\u001b[0m \u001b[38;5;28mprint\u001b[39m(math\u001b[38;5;241m.\u001b[39msqrt(\u001b[38;5;241m-\u001b[39m\u001b[38;5;241m1\u001b[39m))\n",
      "\u001b[1;31mValueError\u001b[0m: math domain error"
     ]
    }
   ],
   "source": [
    "import math\n",
    "print(math.sqrt(-1))\n"
   ]
  },
  {
   "cell_type": "code",
   "execution_count": 30,
   "id": "23951c37-f951-4336-b56a-28088bcd77dd",
   "metadata": {},
   "outputs": [
    {
     "ename": "NameError",
     "evalue": "name 'z' is not defined",
     "output_type": "error",
     "traceback": [
      "\u001b[1;31m---------------------------------------------------------------------------\u001b[0m",
      "\u001b[1;31mNameError\u001b[0m                                 Traceback (most recent call last)",
      "Cell \u001b[1;32mIn[30], line 2\u001b[0m\n\u001b[0;32m      1\u001b[0m y \u001b[38;5;241m=\u001b[39m \u001b[38;5;241m10\u001b[39m\n\u001b[1;32m----> 2\u001b[0m \u001b[38;5;28mprint\u001b[39m(z)\n",
      "\u001b[1;31mNameError\u001b[0m: name 'z' is not defined"
     ]
    }
   ],
   "source": [
    "y = 10\n",
    "print(z)\n"
   ]
  },
  {
   "cell_type": "code",
   "execution_count": 31,
   "id": "24b8a662-5643-42b5-a132-e72305333d40",
   "metadata": {},
   "outputs": [
    {
     "ename": "FileNotFoundError",
     "evalue": "[Errno 2] No such file or directory: 'sample.txt'",
     "output_type": "error",
     "traceback": [
      "\u001b[1;31m---------------------------------------------------------------------------\u001b[0m",
      "\u001b[1;31mFileNotFoundError\u001b[0m                         Traceback (most recent call last)",
      "Cell \u001b[1;32mIn[31], line 1\u001b[0m\n\u001b[1;32m----> 1\u001b[0m f \u001b[38;5;241m=\u001b[39m \u001b[38;5;28mopen\u001b[39m(\u001b[38;5;124m\"\u001b[39m\u001b[38;5;124msample.txt\u001b[39m\u001b[38;5;124m\"\u001b[39m)\n\u001b[0;32m      2\u001b[0m \u001b[38;5;28mprint\u001b[39m(f)\n",
      "File \u001b[1;32m~\\anaconda3\\Lib\\site-packages\\IPython\\core\\interactiveshell.py:310\u001b[0m, in \u001b[0;36m_modified_open\u001b[1;34m(file, *args, **kwargs)\u001b[0m\n\u001b[0;32m    303\u001b[0m \u001b[38;5;28;01mif\u001b[39;00m file \u001b[38;5;129;01min\u001b[39;00m {\u001b[38;5;241m0\u001b[39m, \u001b[38;5;241m1\u001b[39m, \u001b[38;5;241m2\u001b[39m}:\n\u001b[0;32m    304\u001b[0m     \u001b[38;5;28;01mraise\u001b[39;00m \u001b[38;5;167;01mValueError\u001b[39;00m(\n\u001b[0;32m    305\u001b[0m         \u001b[38;5;124mf\u001b[39m\u001b[38;5;124m\"\u001b[39m\u001b[38;5;124mIPython won\u001b[39m\u001b[38;5;124m'\u001b[39m\u001b[38;5;124mt let you open fd=\u001b[39m\u001b[38;5;132;01m{\u001b[39;00mfile\u001b[38;5;132;01m}\u001b[39;00m\u001b[38;5;124m by default \u001b[39m\u001b[38;5;124m\"\u001b[39m\n\u001b[0;32m    306\u001b[0m         \u001b[38;5;124m\"\u001b[39m\u001b[38;5;124mas it is likely to crash IPython. If you know what you are doing, \u001b[39m\u001b[38;5;124m\"\u001b[39m\n\u001b[0;32m    307\u001b[0m         \u001b[38;5;124m\"\u001b[39m\u001b[38;5;124myou can use builtins\u001b[39m\u001b[38;5;124m'\u001b[39m\u001b[38;5;124m open.\u001b[39m\u001b[38;5;124m\"\u001b[39m\n\u001b[0;32m    308\u001b[0m     )\n\u001b[1;32m--> 310\u001b[0m \u001b[38;5;28;01mreturn\u001b[39;00m io_open(file, \u001b[38;5;241m*\u001b[39margs, \u001b[38;5;241m*\u001b[39m\u001b[38;5;241m*\u001b[39mkwargs)\n",
      "\u001b[1;31mFileNotFoundError\u001b[0m: [Errno 2] No such file or directory: 'sample.txt'"
     ]
    }
   ],
   "source": [
    "f = open(\"sample.txt\")\n",
    "print(f)"
   ]
  },
  {
   "cell_type": "markdown",
   "id": "de7288e6-7170-45de-bcab-1d5001a0f3fb",
   "metadata": {},
   "source": [
    "Summary of the answer:\n",
    "1. Trying to add incompatible variables, as in\n",
    "adding 6 + ‘a’ for this Exception type is \"TypeError\"\n",
    "2. Referring to the 12th item of a list that has only 10\n",
    "items  for this Exception type is \"IndexError\"\n",
    "3. Using a value that is out of range for a function’s\n",
    "input, such as calling math.sqrt(-1.0) for this Exception type is \"ValueError\"\n",
    "4. Using an undeclared variable, such as print(x)\n",
    "when x has not been defined for this Exception type is \"NameError\"\n",
    "5. Trying to open a file that does not exist, such as\n",
    "mistyping the file name or looking in the wrong\n",
    "directory. for this Exception type is \"FileNotFoundError\"\n",
    "\n"
   ]
  },
  {
   "cell_type": "markdown",
   "id": "6f160534-a92a-430b-9938-0b1645a45bd7",
   "metadata": {},
   "source": [
    "# Question 10\r",
    "Encryption is the process of hiding the meaning of a text by substituting letters in the\r\n",
    "message with other letters, according to some system. If the process is successful, no\r\n",
    "one but the intended recipient can understand the encrypted message. Cryptanalysis\r\n",
    "refers to attempts to undo the encryption, even if some details of the encryption are\r\n",
    "unknown (for example, if an encrypted message has been intercepted). The first step\r\n",
    "of cryptanalysis is often to build up a table of letter frequencies in the encrypted text.\r\n",
    "Assume that the string letters is already defined as\r\n",
    "'abcdefghijklmnopqrstuvwxyz'. Write a function called frequencies()\r\n",
    "that takes a string as its only parameter, and returns a list of integers, showing the\r\n",
    "number of times each character appears in the text. Your function may ignore any\r\n",
    "characters that are not in letters.\r\n",
    ">>> frequencies('The quick red fox got bored and went home.')\r\n",
    "[1, 1, 1, 3, 5, 1, 1, 2, 1, 0, 1, 0, 1, 2, 4, 0, 1, 2, 0, 2,\r\n",
    "1, 0, 1, 1, 0, 0]\r\n",
    ">>> frequencies('apple')"
   ]
  },
  {
   "cell_type": "code",
   "execution_count": 34,
   "id": "d39103df-f317-4df7-a8eb-8e96c3c54870",
   "metadata": {},
   "outputs": [
    {
     "name": "stdout",
     "output_type": "stream",
     "text": [
      "[1, 1, 1, 3, 5, 1, 1, 2, 1, 0, 1, 0, 1, 2, 4, 0, 1, 2, 0, 3, 1, 0, 1, 1, 0, 0]\n",
      "[1, 0, 0, 0, 1, 0, 0, 0, 0, 0, 0, 1, 0, 0, 0, 2, 0, 0, 0, 0, 0, 0, 0, 0, 0, 0]\n"
     ]
    }
   ],
   "source": [
    "def frequencies(text):\n",
    "    letters = 'abcdefghijklmnopqrstuvwxyz'\n",
    "    freqlist = [0]*26\n",
    "    for char in text.lower():\n",
    "        if char in letters:\n",
    "            index = letters.index(char)\n",
    "            freqlist[index] += 1\n",
    "\n",
    "    return freqlist\n",
    "\n",
    "print(frequencies('The quick red fox got bored and went home.'))\n",
    "print(frequencies('apple'))\n",
    "    "
   ]
  },
  {
   "cell_type": "code",
   "execution_count": null,
   "id": "00286b98-c31c-45a4-8ffc-19238eea9284",
   "metadata": {},
   "outputs": [],
   "source": []
  }
 ],
 "metadata": {
  "kernelspec": {
   "display_name": "Python 3 (ipykernel)",
   "language": "python",
   "name": "python3"
  },
  "language_info": {
   "codemirror_mode": {
    "name": "ipython",
    "version": 3
   },
   "file_extension": ".py",
   "mimetype": "text/x-python",
   "name": "python",
   "nbconvert_exporter": "python",
   "pygments_lexer": "ipython3",
   "version": "3.11.7"
  }
 },
 "nbformat": 4,
 "nbformat_minor": 5
}
